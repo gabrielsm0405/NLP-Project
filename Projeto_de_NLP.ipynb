{
  "nbformat": 4,
  "nbformat_minor": 0,
  "metadata": {
    "colab": {
      "provenance": [],
      "gpuType": "T4"
    },
    "kernelspec": {
      "name": "python3",
      "display_name": "Python 3"
    },
    "language_info": {
      "name": "python"
    },
    "accelerator": "GPU"
  },
  "cells": [
    {
      "cell_type": "markdown",
      "source": [
        "# Projeto de NLP\n",
        "\n",
        "O obejtivo deste projeto é coletar avaliações de um produto selecionado, contendo texto e nota e treinar classificadores de forma a avaliar suas performances.\n",
        "Os classificadores deverão ser:\n",
        "\n",
        "*   SVM + bow\n",
        "*   SVM + embeddings\n",
        "*   BERT\n",
        "\n",
        "Além disso cada classificador deve ser analisado através de métricas de performance como acurácia, F1-score, precision, recall e etc.\n",
        "\n",
        "Alunos:\n",
        "\n",
        "*   Gabriel Souza Marques\n",
        "\n",
        "\n",
        "\n"
      ],
      "metadata": {
        "id": "9A2cZaVlH6aS"
      }
    },
    {
      "cell_type": "code",
      "source": [
        "!pip install -q -U \"tensorflow==2.8.*\""
      ],
      "metadata": {
        "id": "VLhb2WTV_kpV"
      },
      "execution_count": null,
      "outputs": []
    },
    {
      "cell_type": "code",
      "source": [
        "from google.colab import userdata\n",
        "import os\n",
        "import pandas as pd\n",
        "import numpy as np\n",
        "import seaborn as sns\n",
        "import spacy\n",
        "import re\n",
        "from nltk.stem.porter import *\n",
        "from sklearn.feature_extraction.text import CountVectorizer\n",
        "from gensim.models import Word2Vec\n",
        "import numpy as np\n",
        "from sklearn.model_selection import train_test_split\n",
        "from sklearn.metrics import accuracy_score, f1_score, precision_score, recall_score\n",
        "from sklearn.svm import SVC\n",
        "from sklearn.preprocessing import LabelEncoder\n",
        "import tensorflow as tf\n",
        "from tensorflow.keras.utils import to_categorical\n",
        "from sklearn.metrics import classification_report\n",
        "import official.nlp.optimization\n",
        "from official import nlp\n",
        "from official.nlp import bert\n",
        "import official.nlp.bert.configs\n",
        "import official.nlp.bert.bert_models\n",
        "import official.nlp.bert.tokenization\n",
        "\n",
        "nlp = spacy.load(\"en_core_web_sm\")\n",
        "\n",
        "os.environ[\"KAGGLE_KEY\"] = userdata.get('KAGGLE_KEY')\n",
        "os.environ[\"KAGGLE_USERNAME\"] = userdata.get('KAGGLE_USERNAME')\n",
        "\n",
        "seed = 42"
      ],
      "metadata": {
        "id": "5DqHhSE5Kpe5",
        "colab": {
          "base_uri": "https://localhost:8080/"
        },
        "outputId": "6df4b259-b11c-4615-807f-552c4317a065"
      },
      "execution_count": null,
      "outputs": [
        {
          "output_type": "stream",
          "name": "stderr",
          "text": [
            "/usr/local/lib/python3.10/dist-packages/spacy/util.py:1740: UserWarning: [W111] Jupyter notebook detected: if using `prefer_gpu()` or `require_gpu()`, include it in the same cell right before `spacy.load()` to ensure that the model is loaded on the correct device. More information: http://spacy.io/usage/v3#jupyter-notebook-gpu\n",
            "  warnings.warn(Warnings.W111)\n"
          ]
        }
      ]
    },
    {
      "cell_type": "markdown",
      "source": [
        "# Dataset - Spotify User Reviews\n",
        "\n",
        "Este conjunto de dados consiste em mais de 51.000 avaliações de usuários do aplicativo Spotify da Google Play Store (janeiro a julho de 2022). As avaliações foram coletadas para analisar os sentimentos e feedback dos usuários em relação ao aplicativo. Cada avaliação foi rotulada como \"POSITIVE\" ou \"NEGATIVE\" com base em seu sentimento. A distribuição dos sentimentos dentro do conjunto de dados é a seguinte:\n",
        "\n",
        "*   **Avaliações positivas: 56% do total de avaliações**\n",
        "*   **Avaliações negativas: 44% do total de avaliações**\n",
        "\n",
        "Este conjunto de dados pode ser usado para executar várias análises, como análise de sentimentos, análise de tendências ao longo do tempo e extração de recursos para obter insights sobre a experiência do usuário e a satisfação com o aplicativo Spotify. Ele serve como um recurso valioso para pesquisadores e desenvolvedores que desejam explorar as percepções do usuário e identificar áreas de melhoria para o aplicativo.\n",
        "\n",
        "[Link para o dataset](https://www.kaggle.com/datasets/alexandrakim2201/spotify-dataset/data)"
      ],
      "metadata": {
        "id": "kl_NxKe3I29T"
      }
    },
    {
      "cell_type": "code",
      "execution_count": null,
      "metadata": {
        "colab": {
          "base_uri": "https://localhost:8080/"
        },
        "id": "JvhAdJpSH37w",
        "outputId": "66eaa6bb-7112-40e9-84ec-be700d7bd1e6"
      },
      "outputs": [
        {
          "output_type": "stream",
          "name": "stdout",
          "text": [
            "Dataset URL: https://www.kaggle.com/datasets/alexandrakim2201/spotify-dataset\n",
            "License(s): Attribution-NonCommercial 4.0 International (CC BY-NC 4.0)\n",
            "spotify-dataset.zip: Skipping, found more recently modified local copy (use --force to force download)\n",
            "Archive:  spotify-dataset.zip\n",
            "replace DATASET.csv? [y]es, [n]o, [A]ll, [N]one, [r]ename: y\n",
            "  inflating: DATASET.csv             \n"
          ]
        }
      ],
      "source": [
        "# Download do dataset\n",
        "!kaggle datasets download -d alexandrakim2201/spotify-dataset\n",
        "!unzip spotify-dataset.zip"
      ]
    },
    {
      "cell_type": "code",
      "source": [
        "df = pd.read_csv('DATASET.csv').sample(n=1000, random_state=seed) # Criando um dataframe com um subconjunto do dataset\n",
        "df.head()"
      ],
      "metadata": {
        "colab": {
          "base_uri": "https://localhost:8080/",
          "height": 206
        },
        "id": "zRm9NtmMMV9R",
        "outputId": "c38e2125-7734-42c4-9ca5-f584a53ba22a"
      },
      "execution_count": null,
      "outputs": [
        {
          "output_type": "execute_result",
          "data": {
            "text/plain": [
              "                                                  Review     label\n",
              "32533  I don't know what happened between now and las...  NEGATIVE\n",
              "26097  AwesomeðŸ‘Œ to use for hands free ðŸ™Œ listeni...  POSITIVE\n",
              "32054  love spotify. but when I close all my tabs aft...  NEGATIVE\n",
              "35041  Buggy, stops all of the sudden, cannot pause, ...  NEGATIVE\n",
              "45509  Very great quality, only backfire is that ever...  POSITIVE"
            ],
            "text/html": [
              "\n",
              "  <div id=\"df-70777793-8824-4971-ab49-e1bde4110295\" class=\"colab-df-container\">\n",
              "    <div>\n",
              "<style scoped>\n",
              "    .dataframe tbody tr th:only-of-type {\n",
              "        vertical-align: middle;\n",
              "    }\n",
              "\n",
              "    .dataframe tbody tr th {\n",
              "        vertical-align: top;\n",
              "    }\n",
              "\n",
              "    .dataframe thead th {\n",
              "        text-align: right;\n",
              "    }\n",
              "</style>\n",
              "<table border=\"1\" class=\"dataframe\">\n",
              "  <thead>\n",
              "    <tr style=\"text-align: right;\">\n",
              "      <th></th>\n",
              "      <th>Review</th>\n",
              "      <th>label</th>\n",
              "    </tr>\n",
              "  </thead>\n",
              "  <tbody>\n",
              "    <tr>\n",
              "      <th>32533</th>\n",
              "      <td>I don't know what happened between now and las...</td>\n",
              "      <td>NEGATIVE</td>\n",
              "    </tr>\n",
              "    <tr>\n",
              "      <th>26097</th>\n",
              "      <td>AwesomeðŸ‘Œ to use for hands free ðŸ™Œ listeni...</td>\n",
              "      <td>POSITIVE</td>\n",
              "    </tr>\n",
              "    <tr>\n",
              "      <th>32054</th>\n",
              "      <td>love spotify. but when I close all my tabs aft...</td>\n",
              "      <td>NEGATIVE</td>\n",
              "    </tr>\n",
              "    <tr>\n",
              "      <th>35041</th>\n",
              "      <td>Buggy, stops all of the sudden, cannot pause, ...</td>\n",
              "      <td>NEGATIVE</td>\n",
              "    </tr>\n",
              "    <tr>\n",
              "      <th>45509</th>\n",
              "      <td>Very great quality, only backfire is that ever...</td>\n",
              "      <td>POSITIVE</td>\n",
              "    </tr>\n",
              "  </tbody>\n",
              "</table>\n",
              "</div>\n",
              "    <div class=\"colab-df-buttons\">\n",
              "\n",
              "  <div class=\"colab-df-container\">\n",
              "    <button class=\"colab-df-convert\" onclick=\"convertToInteractive('df-70777793-8824-4971-ab49-e1bde4110295')\"\n",
              "            title=\"Convert this dataframe to an interactive table.\"\n",
              "            style=\"display:none;\">\n",
              "\n",
              "  <svg xmlns=\"http://www.w3.org/2000/svg\" height=\"24px\" viewBox=\"0 -960 960 960\">\n",
              "    <path d=\"M120-120v-720h720v720H120Zm60-500h600v-160H180v160Zm220 220h160v-160H400v160Zm0 220h160v-160H400v160ZM180-400h160v-160H180v160Zm440 0h160v-160H620v160ZM180-180h160v-160H180v160Zm440 0h160v-160H620v160Z\"/>\n",
              "  </svg>\n",
              "    </button>\n",
              "\n",
              "  <style>\n",
              "    .colab-df-container {\n",
              "      display:flex;\n",
              "      gap: 12px;\n",
              "    }\n",
              "\n",
              "    .colab-df-convert {\n",
              "      background-color: #E8F0FE;\n",
              "      border: none;\n",
              "      border-radius: 50%;\n",
              "      cursor: pointer;\n",
              "      display: none;\n",
              "      fill: #1967D2;\n",
              "      height: 32px;\n",
              "      padding: 0 0 0 0;\n",
              "      width: 32px;\n",
              "    }\n",
              "\n",
              "    .colab-df-convert:hover {\n",
              "      background-color: #E2EBFA;\n",
              "      box-shadow: 0px 1px 2px rgba(60, 64, 67, 0.3), 0px 1px 3px 1px rgba(60, 64, 67, 0.15);\n",
              "      fill: #174EA6;\n",
              "    }\n",
              "\n",
              "    .colab-df-buttons div {\n",
              "      margin-bottom: 4px;\n",
              "    }\n",
              "\n",
              "    [theme=dark] .colab-df-convert {\n",
              "      background-color: #3B4455;\n",
              "      fill: #D2E3FC;\n",
              "    }\n",
              "\n",
              "    [theme=dark] .colab-df-convert:hover {\n",
              "      background-color: #434B5C;\n",
              "      box-shadow: 0px 1px 3px 1px rgba(0, 0, 0, 0.15);\n",
              "      filter: drop-shadow(0px 1px 2px rgba(0, 0, 0, 0.3));\n",
              "      fill: #FFFFFF;\n",
              "    }\n",
              "  </style>\n",
              "\n",
              "    <script>\n",
              "      const buttonEl =\n",
              "        document.querySelector('#df-70777793-8824-4971-ab49-e1bde4110295 button.colab-df-convert');\n",
              "      buttonEl.style.display =\n",
              "        google.colab.kernel.accessAllowed ? 'block' : 'none';\n",
              "\n",
              "      async function convertToInteractive(key) {\n",
              "        const element = document.querySelector('#df-70777793-8824-4971-ab49-e1bde4110295');\n",
              "        const dataTable =\n",
              "          await google.colab.kernel.invokeFunction('convertToInteractive',\n",
              "                                                    [key], {});\n",
              "        if (!dataTable) return;\n",
              "\n",
              "        const docLinkHtml = 'Like what you see? Visit the ' +\n",
              "          '<a target=\"_blank\" href=https://colab.research.google.com/notebooks/data_table.ipynb>data table notebook</a>'\n",
              "          + ' to learn more about interactive tables.';\n",
              "        element.innerHTML = '';\n",
              "        dataTable['output_type'] = 'display_data';\n",
              "        await google.colab.output.renderOutput(dataTable, element);\n",
              "        const docLink = document.createElement('div');\n",
              "        docLink.innerHTML = docLinkHtml;\n",
              "        element.appendChild(docLink);\n",
              "      }\n",
              "    </script>\n",
              "  </div>\n",
              "\n",
              "\n",
              "<div id=\"df-53b4b030-4677-417f-b203-7eca2a5cca60\">\n",
              "  <button class=\"colab-df-quickchart\" onclick=\"quickchart('df-53b4b030-4677-417f-b203-7eca2a5cca60')\"\n",
              "            title=\"Suggest charts\"\n",
              "            style=\"display:none;\">\n",
              "\n",
              "<svg xmlns=\"http://www.w3.org/2000/svg\" height=\"24px\"viewBox=\"0 0 24 24\"\n",
              "     width=\"24px\">\n",
              "    <g>\n",
              "        <path d=\"M19 3H5c-1.1 0-2 .9-2 2v14c0 1.1.9 2 2 2h14c1.1 0 2-.9 2-2V5c0-1.1-.9-2-2-2zM9 17H7v-7h2v7zm4 0h-2V7h2v10zm4 0h-2v-4h2v4z\"/>\n",
              "    </g>\n",
              "</svg>\n",
              "  </button>\n",
              "\n",
              "<style>\n",
              "  .colab-df-quickchart {\n",
              "      --bg-color: #E8F0FE;\n",
              "      --fill-color: #1967D2;\n",
              "      --hover-bg-color: #E2EBFA;\n",
              "      --hover-fill-color: #174EA6;\n",
              "      --disabled-fill-color: #AAA;\n",
              "      --disabled-bg-color: #DDD;\n",
              "  }\n",
              "\n",
              "  [theme=dark] .colab-df-quickchart {\n",
              "      --bg-color: #3B4455;\n",
              "      --fill-color: #D2E3FC;\n",
              "      --hover-bg-color: #434B5C;\n",
              "      --hover-fill-color: #FFFFFF;\n",
              "      --disabled-bg-color: #3B4455;\n",
              "      --disabled-fill-color: #666;\n",
              "  }\n",
              "\n",
              "  .colab-df-quickchart {\n",
              "    background-color: var(--bg-color);\n",
              "    border: none;\n",
              "    border-radius: 50%;\n",
              "    cursor: pointer;\n",
              "    display: none;\n",
              "    fill: var(--fill-color);\n",
              "    height: 32px;\n",
              "    padding: 0;\n",
              "    width: 32px;\n",
              "  }\n",
              "\n",
              "  .colab-df-quickchart:hover {\n",
              "    background-color: var(--hover-bg-color);\n",
              "    box-shadow: 0 1px 2px rgba(60, 64, 67, 0.3), 0 1px 3px 1px rgba(60, 64, 67, 0.15);\n",
              "    fill: var(--button-hover-fill-color);\n",
              "  }\n",
              "\n",
              "  .colab-df-quickchart-complete:disabled,\n",
              "  .colab-df-quickchart-complete:disabled:hover {\n",
              "    background-color: var(--disabled-bg-color);\n",
              "    fill: var(--disabled-fill-color);\n",
              "    box-shadow: none;\n",
              "  }\n",
              "\n",
              "  .colab-df-spinner {\n",
              "    border: 2px solid var(--fill-color);\n",
              "    border-color: transparent;\n",
              "    border-bottom-color: var(--fill-color);\n",
              "    animation:\n",
              "      spin 1s steps(1) infinite;\n",
              "  }\n",
              "\n",
              "  @keyframes spin {\n",
              "    0% {\n",
              "      border-color: transparent;\n",
              "      border-bottom-color: var(--fill-color);\n",
              "      border-left-color: var(--fill-color);\n",
              "    }\n",
              "    20% {\n",
              "      border-color: transparent;\n",
              "      border-left-color: var(--fill-color);\n",
              "      border-top-color: var(--fill-color);\n",
              "    }\n",
              "    30% {\n",
              "      border-color: transparent;\n",
              "      border-left-color: var(--fill-color);\n",
              "      border-top-color: var(--fill-color);\n",
              "      border-right-color: var(--fill-color);\n",
              "    }\n",
              "    40% {\n",
              "      border-color: transparent;\n",
              "      border-right-color: var(--fill-color);\n",
              "      border-top-color: var(--fill-color);\n",
              "    }\n",
              "    60% {\n",
              "      border-color: transparent;\n",
              "      border-right-color: var(--fill-color);\n",
              "    }\n",
              "    80% {\n",
              "      border-color: transparent;\n",
              "      border-right-color: var(--fill-color);\n",
              "      border-bottom-color: var(--fill-color);\n",
              "    }\n",
              "    90% {\n",
              "      border-color: transparent;\n",
              "      border-bottom-color: var(--fill-color);\n",
              "    }\n",
              "  }\n",
              "</style>\n",
              "\n",
              "  <script>\n",
              "    async function quickchart(key) {\n",
              "      const quickchartButtonEl =\n",
              "        document.querySelector('#' + key + ' button');\n",
              "      quickchartButtonEl.disabled = true;  // To prevent multiple clicks.\n",
              "      quickchartButtonEl.classList.add('colab-df-spinner');\n",
              "      try {\n",
              "        const charts = await google.colab.kernel.invokeFunction(\n",
              "            'suggestCharts', [key], {});\n",
              "      } catch (error) {\n",
              "        console.error('Error during call to suggestCharts:', error);\n",
              "      }\n",
              "      quickchartButtonEl.classList.remove('colab-df-spinner');\n",
              "      quickchartButtonEl.classList.add('colab-df-quickchart-complete');\n",
              "    }\n",
              "    (() => {\n",
              "      let quickchartButtonEl =\n",
              "        document.querySelector('#df-53b4b030-4677-417f-b203-7eca2a5cca60 button');\n",
              "      quickchartButtonEl.style.display =\n",
              "        google.colab.kernel.accessAllowed ? 'block' : 'none';\n",
              "    })();\n",
              "  </script>\n",
              "</div>\n",
              "\n",
              "    </div>\n",
              "  </div>\n"
            ],
            "application/vnd.google.colaboratory.intrinsic+json": {
              "type": "dataframe",
              "variable_name": "df",
              "summary": "{\n  \"name\": \"df\",\n  \"rows\": 1000,\n  \"fields\": [\n    {\n      \"column\": \"Review\",\n      \"properties\": {\n        \"dtype\": \"string\",\n        \"num_unique_values\": 995,\n        \"samples\": [\n          \"I bet the next update will require you to buy premium in order to breathe while using the app\",\n          \"It's been amazing I love it keep it up\",\n          \"Spotify is a great app for listening music, the best. But podcasts, oh man, it terrible. Yeah, it got ton of exclusive podcasts but podcast section of app really messy and a hassle to operate. Please add a separate section dedicated to podcasts or just launch a separate app for just podcasts. Because honestly, I cant listen to Spotify exclusives on another apps and I dont want to listen to them on Spotify. Its a loss-loss situation for me.\"\n        ],\n        \"semantic_type\": \"\",\n        \"description\": \"\"\n      }\n    },\n    {\n      \"column\": \"label\",\n      \"properties\": {\n        \"dtype\": \"category\",\n        \"num_unique_values\": 2,\n        \"samples\": [\n          \"POSITIVE\",\n          \"NEGATIVE\"\n        ],\n        \"semantic_type\": \"\",\n        \"description\": \"\"\n      }\n    }\n  ]\n}"
            }
          },
          "metadata": {},
          "execution_count": 2
        }
      ]
    },
    {
      "cell_type": "markdown",
      "source": [
        "# Explorando o dataset"
      ],
      "metadata": {
        "id": "KAogEArmMnRS"
      }
    },
    {
      "cell_type": "code",
      "source": [
        "df.info()"
      ],
      "metadata": {
        "colab": {
          "base_uri": "https://localhost:8080/"
        },
        "id": "w6tmLaOCMsbr",
        "outputId": "3ecbe612-d585-4f2f-c865-7c5bd32f875e"
      },
      "execution_count": null,
      "outputs": [
        {
          "output_type": "stream",
          "name": "stdout",
          "text": [
            "<class 'pandas.core.frame.DataFrame'>\n",
            "Index: 1000 entries, 32533 to 20815\n",
            "Data columns (total 2 columns):\n",
            " #   Column  Non-Null Count  Dtype \n",
            "---  ------  --------------  ----- \n",
            " 0   Review  1000 non-null   object\n",
            " 1   label   1000 non-null   object\n",
            "dtypes: object(2)\n",
            "memory usage: 23.4+ KB\n"
          ]
        }
      ]
    },
    {
      "cell_type": "code",
      "source": [
        "df.isnull().sum()"
      ],
      "metadata": {
        "colab": {
          "base_uri": "https://localhost:8080/",
          "height": 147
        },
        "id": "ZzWyZdLDM2Wr",
        "outputId": "0d99956c-4793-4c21-e5bd-738de538cf64"
      },
      "execution_count": null,
      "outputs": [
        {
          "output_type": "execute_result",
          "data": {
            "text/plain": [
              "Review    0\n",
              "label     0\n",
              "dtype: int64"
            ],
            "text/html": [
              "<div>\n",
              "<style scoped>\n",
              "    .dataframe tbody tr th:only-of-type {\n",
              "        vertical-align: middle;\n",
              "    }\n",
              "\n",
              "    .dataframe tbody tr th {\n",
              "        vertical-align: top;\n",
              "    }\n",
              "\n",
              "    .dataframe thead th {\n",
              "        text-align: right;\n",
              "    }\n",
              "</style>\n",
              "<table border=\"1\" class=\"dataframe\">\n",
              "  <thead>\n",
              "    <tr style=\"text-align: right;\">\n",
              "      <th></th>\n",
              "      <th>0</th>\n",
              "    </tr>\n",
              "  </thead>\n",
              "  <tbody>\n",
              "    <tr>\n",
              "      <th>Review</th>\n",
              "      <td>0</td>\n",
              "    </tr>\n",
              "    <tr>\n",
              "      <th>label</th>\n",
              "      <td>0</td>\n",
              "    </tr>\n",
              "  </tbody>\n",
              "</table>\n",
              "</div><br><label><b>dtype:</b> int64</label>"
            ]
          },
          "metadata": {},
          "execution_count": 4
        }
      ]
    },
    {
      "cell_type": "code",
      "source": [
        "# Removendo linhas com valores nulos\n",
        "df = df.dropna(subset=['Review'])\n",
        "df.info()"
      ],
      "metadata": {
        "colab": {
          "base_uri": "https://localhost:8080/"
        },
        "id": "hHbgX000M5T0",
        "outputId": "18d8aa68-3902-4c04-d9b6-b6dacb2b1ad5"
      },
      "execution_count": null,
      "outputs": [
        {
          "output_type": "stream",
          "name": "stdout",
          "text": [
            "<class 'pandas.core.frame.DataFrame'>\n",
            "Index: 1000 entries, 32533 to 20815\n",
            "Data columns (total 2 columns):\n",
            " #   Column  Non-Null Count  Dtype \n",
            "---  ------  --------------  ----- \n",
            " 0   Review  1000 non-null   object\n",
            " 1   label   1000 non-null   object\n",
            "dtypes: object(2)\n",
            "memory usage: 23.4+ KB\n"
          ]
        }
      ]
    },
    {
      "cell_type": "code",
      "source": [
        "df['label'].value_counts() # Verificação da distribuição de sentimentos/labels"
      ],
      "metadata": {
        "colab": {
          "base_uri": "https://localhost:8080/",
          "height": 178
        },
        "id": "yWoqJg9dNEhU",
        "outputId": "1ed45c82-2e82-4664-e098-9103f2bbf298"
      },
      "execution_count": null,
      "outputs": [
        {
          "output_type": "execute_result",
          "data": {
            "text/plain": [
              "label\n",
              "NEGATIVE    553\n",
              "POSITIVE    447\n",
              "Name: count, dtype: int64"
            ],
            "text/html": [
              "<div>\n",
              "<style scoped>\n",
              "    .dataframe tbody tr th:only-of-type {\n",
              "        vertical-align: middle;\n",
              "    }\n",
              "\n",
              "    .dataframe tbody tr th {\n",
              "        vertical-align: top;\n",
              "    }\n",
              "\n",
              "    .dataframe thead th {\n",
              "        text-align: right;\n",
              "    }\n",
              "</style>\n",
              "<table border=\"1\" class=\"dataframe\">\n",
              "  <thead>\n",
              "    <tr style=\"text-align: right;\">\n",
              "      <th></th>\n",
              "      <th>count</th>\n",
              "    </tr>\n",
              "    <tr>\n",
              "      <th>label</th>\n",
              "      <th></th>\n",
              "    </tr>\n",
              "  </thead>\n",
              "  <tbody>\n",
              "    <tr>\n",
              "      <th>NEGATIVE</th>\n",
              "      <td>553</td>\n",
              "    </tr>\n",
              "    <tr>\n",
              "      <th>POSITIVE</th>\n",
              "      <td>447</td>\n",
              "    </tr>\n",
              "  </tbody>\n",
              "</table>\n",
              "</div><br><label><b>dtype:</b> int64</label>"
            ]
          },
          "metadata": {},
          "execution_count": 6
        }
      ]
    },
    {
      "cell_type": "code",
      "source": [
        "sns.countplot(x='label', data=df)"
      ],
      "metadata": {
        "colab": {
          "base_uri": "https://localhost:8080/",
          "height": 466
        },
        "id": "V1h3vYjXNTVL",
        "outputId": "5f0cd648-bada-4b66-8cc9-86040266410f"
      },
      "execution_count": null,
      "outputs": [
        {
          "output_type": "execute_result",
          "data": {
            "text/plain": [
              "<Axes: xlabel='label', ylabel='count'>"
            ]
          },
          "metadata": {},
          "execution_count": 7
        },
        {
          "output_type": "display_data",
          "data": {
            "text/plain": [
              "<Figure size 640x480 with 1 Axes>"
            ],
            "image/png": "[encoded data removed]"
          },
          "metadata": {}
        }
      ]
    },
    {
      "cell_type": "markdown",
      "source": [
        "# Pré-processamento do texto"
      ],
      "metadata": {
        "id": "gmzODM6qNbCL"
      }
    },
    {
      "cell_type": "markdown",
      "source": [
        "## Limpeza\n",
        "\n",
        "A coluna \"Reviews\" do nosso conjunto de dados tem uma variedade de símbolos, pontuação, caracteres especiais etc. que não são de nossa exigência. Exemplo: , : ( ) ? . \" ; ! - + = ~ % etc. não são úteis."
      ],
      "metadata": {
        "id": "2INfDTsMOmh9"
      }
    },
    {
      "cell_type": "code",
      "source": [
        "def clean_text(text):\n",
        "  text = re.sub(r'Ã[\\x80-\\xBF]+', ' ', text) # remove combinações que incluem \"Ã\" e caracteres especiais subsequentes\n",
        "  text = re.sub(r'[^a-zA-Z\\s]', ' ', text) # remove todos os caracteres que não sejam letras do alfabeto\n",
        "  text = re.sub(r'\\s+', ' ', text) # remove uma ou mais ocorrências consecutivas de espaços em branco\n",
        "  text = text.strip() # remove todos os espaços em branco do início e do fim\n",
        "  return text.lower() # converte tudo para lowercase\n",
        "\n",
        "df['Review'] = df['Review'].apply(clean_text)\n",
        "df.head()"
      ],
      "metadata": {
        "colab": {
          "base_uri": "https://localhost:8080/",
          "height": 206
        },
        "id": "f4klMvkTOpzF",
        "outputId": "78cb6507-9b1a-4351-9a90-79fccf13ccca"
      },
      "execution_count": null,
      "outputs": [
        {
          "output_type": "execute_result",
          "data": {
            "text/plain": [
              "                                                  Review     label\n",
              "32533  i don t know what happened between now and las...  NEGATIVE\n",
              "26097         awesome to use for hands free listening to  POSITIVE\n",
              "32054  love spotify but when i close all my tabs afte...  NEGATIVE\n",
              "35041  buggy stops all of the sudden cannot pause cho...  NEGATIVE\n",
              "45509  very great quality only backfire is that every...  POSITIVE"
            ],
            "text/html": [
              "\n",
              "  <div id=\"df-31da940e-3117-4fe3-bfaf-bc688b20efaa\" class=\"colab-df-container\">\n",
              "    <div>\n",
              "<style scoped>\n",
              "    .dataframe tbody tr th:only-of-type {\n",
              "        vertical-align: middle;\n",
              "    }\n",
              "\n",
              "    .dataframe tbody tr th {\n",
              "        vertical-align: top;\n",
              "    }\n",
              "\n",
              "    .dataframe thead th {\n",
              "        text-align: right;\n",
              "    }\n",
              "</style>\n",
              "<table border=\"1\" class=\"dataframe\">\n",
              "  <thead>\n",
              "    <tr style=\"text-align: right;\">\n",
              "      <th></th>\n",
              "      <th>Review</th>\n",
              "      <th>label</th>\n",
              "    </tr>\n",
              "  </thead>\n",
              "  <tbody>\n",
              "    <tr>\n",
              "      <th>32533</th>\n",
              "      <td>i don t know what happened between now and las...</td>\n",
              "      <td>NEGATIVE</td>\n",
              "    </tr>\n",
              "    <tr>\n",
              "      <th>26097</th>\n",
              "      <td>awesome to use for hands free listening to</td>\n",
              "      <td>POSITIVE</td>\n",
              "    </tr>\n",
              "    <tr>\n",
              "      <th>32054</th>\n",
              "      <td>love spotify but when i close all my tabs afte...</td>\n",
              "      <td>NEGATIVE</td>\n",
              "    </tr>\n",
              "    <tr>\n",
              "      <th>35041</th>\n",
              "      <td>buggy stops all of the sudden cannot pause cho...</td>\n",
              "      <td>NEGATIVE</td>\n",
              "    </tr>\n",
              "    <tr>\n",
              "      <th>45509</th>\n",
              "      <td>very great quality only backfire is that every...</td>\n",
              "      <td>POSITIVE</td>\n",
              "    </tr>\n",
              "  </tbody>\n",
              "</table>\n",
              "</div>\n",
              "    <div class=\"colab-df-buttons\">\n",
              "\n",
              "  <div class=\"colab-df-container\">\n",
              "    <button class=\"colab-df-convert\" onclick=\"convertToInteractive('df-31da940e-3117-4fe3-bfaf-bc688b20efaa')\"\n",
              "            title=\"Convert this dataframe to an interactive table.\"\n",
              "            style=\"display:none;\">\n",
              "\n",
              "  <svg xmlns=\"http://www.w3.org/2000/svg\" height=\"24px\" viewBox=\"0 -960 960 960\">\n",
              "    <path d=\"M120-120v-720h720v720H120Zm60-500h600v-160H180v160Zm220 220h160v-160H400v160Zm0 220h160v-160H400v160ZM180-400h160v-160H180v160Zm440 0h160v-160H620v160ZM180-180h160v-160H180v160Zm440 0h160v-160H620v160Z\"/>\n",
              "  </svg>\n",
              "    </button>\n",
              "\n",
              "  <style>\n",
              "    .colab-df-container {\n",
              "      display:flex;\n",
              "      gap: 12px;\n",
              "    }\n",
              "\n",
              "    .colab-df-convert {\n",
              "      background-color: #E8F0FE;\n",
              "      border: none;\n",
              "      border-radius: 50%;\n",
              "      cursor: pointer;\n",
              "      display: none;\n",
              "      fill: #1967D2;\n",
              "      height: 32px;\n",
              "      padding: 0 0 0 0;\n",
              "      width: 32px;\n",
              "    }\n",
              "\n",
              "    .colab-df-convert:hover {\n",
              "      background-color: #E2EBFA;\n",
              "      box-shadow: 0px 1px 2px rgba(60, 64, 67, 0.3), 0px 1px 3px 1px rgba(60, 64, 67, 0.15);\n",
              "      fill: #174EA6;\n",
              "    }\n",
              "\n",
              "    .colab-df-buttons div {\n",
              "      margin-bottom: 4px;\n",
              "    }\n",
              "\n",
              "    [theme=dark] .colab-df-convert {\n",
              "      background-color: #3B4455;\n",
              "      fill: #D2E3FC;\n",
              "    }\n",
              "\n",
              "    [theme=dark] .colab-df-convert:hover {\n",
              "      background-color: #434B5C;\n",
              "      box-shadow: 0px 1px 3px 1px rgba(0, 0, 0, 0.15);\n",
              "      filter: drop-shadow(0px 1px 2px rgba(0, 0, 0, 0.3));\n",
              "      fill: #FFFFFF;\n",
              "    }\n",
              "  </style>\n",
              "\n",
              "    <script>\n",
              "      const buttonEl =\n",
              "        document.querySelector('#df-31da940e-3117-4fe3-bfaf-bc688b20efaa button.colab-df-convert');\n",
              "      buttonEl.style.display =\n",
              "        google.colab.kernel.accessAllowed ? 'block' : 'none';\n",
              "\n",
              "      async function convertToInteractive(key) {\n",
              "        const element = document.querySelector('#df-31da940e-3117-4fe3-bfaf-bc688b20efaa');\n",
              "        const dataTable =\n",
              "          await google.colab.kernel.invokeFunction('convertToInteractive',\n",
              "                                                    [key], {});\n",
              "        if (!dataTable) return;\n",
              "\n",
              "        const docLinkHtml = 'Like what you see? Visit the ' +\n",
              "          '<a target=\"_blank\" href=https://colab.research.google.com/notebooks/data_table.ipynb>data table notebook</a>'\n",
              "          + ' to learn more about interactive tables.';\n",
              "        element.innerHTML = '';\n",
              "        dataTable['output_type'] = 'display_data';\n",
              "        await google.colab.output.renderOutput(dataTable, element);\n",
              "        const docLink = document.createElement('div');\n",
              "        docLink.innerHTML = docLinkHtml;\n",
              "        element.appendChild(docLink);\n",
              "      }\n",
              "    </script>\n",
              "  </div>\n",
              "\n",
              "\n",
              "<div id=\"df-237d504b-187a-4fab-911d-892bec004601\">\n",
              "  <button class=\"colab-df-quickchart\" onclick=\"quickchart('df-237d504b-187a-4fab-911d-892bec004601')\"\n",
              "            title=\"Suggest charts\"\n",
              "            style=\"display:none;\">\n",
              "\n",
              "<svg xmlns=\"http://www.w3.org/2000/svg\" height=\"24px\"viewBox=\"0 0 24 24\"\n",
              "     width=\"24px\">\n",
              "    <g>\n",
              "        <path d=\"M19 3H5c-1.1 0-2 .9-2 2v14c0 1.1.9 2 2 2h14c1.1 0 2-.9 2-2V5c0-1.1-.9-2-2-2zM9 17H7v-7h2v7zm4 0h-2V7h2v10zm4 0h-2v-4h2v4z\"/>\n",
              "    </g>\n",
              "</svg>\n",
              "  </button>\n",
              "\n",
              "<style>\n",
              "  .colab-df-quickchart {\n",
              "      --bg-color: #E8F0FE;\n",
              "      --fill-color: #1967D2;\n",
              "      --hover-bg-color: #E2EBFA;\n",
              "      --hover-fill-color: #174EA6;\n",
              "      --disabled-fill-color: #AAA;\n",
              "      --disabled-bg-color: #DDD;\n",
              "  }\n",
              "\n",
              "  [theme=dark] .colab-df-quickchart {\n",
              "      --bg-color: #3B4455;\n",
              "      --fill-color: #D2E3FC;\n",
              "      --hover-bg-color: #434B5C;\n",
              "      --hover-fill-color: #FFFFFF;\n",
              "      --disabled-bg-color: #3B4455;\n",
              "      --disabled-fill-color: #666;\n",
              "  }\n",
              "\n",
              "  .colab-df-quickchart {\n",
              "    background-color: var(--bg-color);\n",
              "    border: none;\n",
              "    border-radius: 50%;\n",
              "    cursor: pointer;\n",
              "    display: none;\n",
              "    fill: var(--fill-color);\n",
              "    height: 32px;\n",
              "    padding: 0;\n",
              "    width: 32px;\n",
              "  }\n",
              "\n",
              "  .colab-df-quickchart:hover {\n",
              "    background-color: var(--hover-bg-color);\n",
              "    box-shadow: 0 1px 2px rgba(60, 64, 67, 0.3), 0 1px 3px 1px rgba(60, 64, 67, 0.15);\n",
              "    fill: var(--button-hover-fill-color);\n",
              "  }\n",
              "\n",
              "  .colab-df-quickchart-complete:disabled,\n",
              "  .colab-df-quickchart-complete:disabled:hover {\n",
              "    background-color: var(--disabled-bg-color);\n",
              "    fill: var(--disabled-fill-color);\n",
              "    box-shadow: none;\n",
              "  }\n",
              "\n",
              "  .colab-df-spinner {\n",
              "    border: 2px solid var(--fill-color);\n",
              "    border-color: transparent;\n",
              "    border-bottom-color: var(--fill-color);\n",
              "    animation:\n",
              "      spin 1s steps(1) infinite;\n",
              "  }\n",
              "\n",
              "  @keyframes spin {\n",
              "    0% {\n",
              "      border-color: transparent;\n",
              "      border-bottom-color: var(--fill-color);\n",
              "      border-left-color: var(--fill-color);\n",
              "    }\n",
              "    20% {\n",
              "      border-color: transparent;\n",
              "      border-left-color: var(--fill-color);\n",
              "      border-top-color: var(--fill-color);\n",
              "    }\n",
              "    30% {\n",
              "      border-color: transparent;\n",
              "      border-left-color: var(--fill-color);\n",
              "      border-top-color: var(--fill-color);\n",
              "      border-right-color: var(--fill-color);\n",
              "    }\n",
              "    40% {\n",
              "      border-color: transparent;\n",
              "      border-right-color: var(--fill-color);\n",
              "      border-top-color: var(--fill-color);\n",
              "    }\n",
              "    60% {\n",
              "      border-color: transparent;\n",
              "      border-right-color: var(--fill-color);\n",
              "    }\n",
              "    80% {\n",
              "      border-color: transparent;\n",
              "      border-right-color: var(--fill-color);\n",
              "      border-bottom-color: var(--fill-color);\n",
              "    }\n",
              "    90% {\n",
              "      border-color: transparent;\n",
              "      border-bottom-color: var(--fill-color);\n",
              "    }\n",
              "  }\n",
              "</style>\n",
              "\n",
              "  <script>\n",
              "    async function quickchart(key) {\n",
              "      const quickchartButtonEl =\n",
              "        document.querySelector('#' + key + ' button');\n",
              "      quickchartButtonEl.disabled = true;  // To prevent multiple clicks.\n",
              "      quickchartButtonEl.classList.add('colab-df-spinner');\n",
              "      try {\n",
              "        const charts = await google.colab.kernel.invokeFunction(\n",
              "            'suggestCharts', [key], {});\n",
              "      } catch (error) {\n",
              "        console.error('Error during call to suggestCharts:', error);\n",
              "      }\n",
              "      quickchartButtonEl.classList.remove('colab-df-spinner');\n",
              "      quickchartButtonEl.classList.add('colab-df-quickchart-complete');\n",
              "    }\n",
              "    (() => {\n",
              "      let quickchartButtonEl =\n",
              "        document.querySelector('#df-237d504b-187a-4fab-911d-892bec004601 button');\n",
              "      quickchartButtonEl.style.display =\n",
              "        google.colab.kernel.accessAllowed ? 'block' : 'none';\n",
              "    })();\n",
              "  </script>\n",
              "</div>\n",
              "\n",
              "    </div>\n",
              "  </div>\n"
            ],
            "application/vnd.google.colaboratory.intrinsic+json": {
              "type": "dataframe",
              "variable_name": "df",
              "summary": "{\n  \"name\": \"df\",\n  \"rows\": 1000,\n  \"fields\": [\n    {\n      \"column\": \"Review\",\n      \"properties\": {\n        \"dtype\": \"string\",\n        \"num_unique_values\": 994,\n        \"samples\": [\n          \"i bet the next update will require you to buy premium in order to breathe while using the app\",\n          \"it s been amazing i love it keep it up\",\n          \"spotify is a great app for listening music the best but podcasts oh man it terrible yeah it got ton of exclusive podcasts but podcast section of app really messy and a hassle to operate please add a separate section dedicated to podcasts or just launch a separate app for just podcasts because honestly i cant listen to spotify exclusives on another apps and i dont want to listen to them on spotify its a loss loss situation for me\"\n        ],\n        \"semantic_type\": \"\",\n        \"description\": \"\"\n      }\n    },\n    {\n      \"column\": \"label\",\n      \"properties\": {\n        \"dtype\": \"category\",\n        \"num_unique_values\": 2,\n        \"samples\": [\n          \"POSITIVE\",\n          \"NEGATIVE\"\n        ],\n        \"semantic_type\": \"\",\n        \"description\": \"\"\n      }\n    }\n  ]\n}"
            }
          },
          "metadata": {},
          "execution_count": 8
        }
      ]
    },
    {
      "cell_type": "markdown",
      "source": [
        "## Tokenização + Remoção de stopwords+ Lematização + Stemming"
      ],
      "metadata": {
        "id": "f7i76RYKOS1j"
      }
    },
    {
      "cell_type": "code",
      "source": [
        "stemmer = PorterStemmer()\n",
        "\n",
        "def tokenize_text(text):\n",
        "  return [stemmer.stem(token.lemma_) for token in nlp(text) if not token.is_stop]\n",
        "\n",
        "df['tokens'] = df['Review'].apply(tokenize_text)\n",
        "df['sentences'] = df['tokens'].apply(lambda x: ' '.join(x))\n",
        "df.head()"
      ],
      "metadata": {
        "colab": {
          "base_uri": "https://localhost:8080/",
          "height": 293
        },
        "id": "Loxml0yMNox9",
        "outputId": "17bd6ec5-8f1e-47b9-d31d-86e802cf167d"
      },
      "execution_count": null,
      "outputs": [
        {
          "output_type": "execute_result",
          "data": {
            "text/plain": [
              "                                                  Review     label  \\\n",
              "32533  i don t know what happened between now and las...  NEGATIVE   \n",
              "26097         awesome to use for hands free listening to  POSITIVE   \n",
              "32054  love spotify but when i close all my tabs afte...  NEGATIVE   \n",
              "35041  buggy stops all of the sudden cannot pause cho...  NEGATIVE   \n",
              "45509  very great quality only backfire is that every...  POSITIVE   \n",
              "\n",
              "                                                  tokens  \\\n",
              "32533  [don, t, know, happen, month, late, spotifi, t...   \n",
              "26097                  [awesom, use, hand, free, listen]   \n",
              "32054  [love, spotifi, close, tab, second, spotifi, k...   \n",
              "35041  [buggi, stop, sudden, paus, choos, second, ski...   \n",
              "45509  [great, qualiti, backfir, old, song, play, mod...   \n",
              "\n",
              "                                               sentences  \n",
              "32533  don t know happen month late spotifi take away...  \n",
              "26097                        awesom use hand free listen  \n",
              "32054  love spotifi close tab second spotifi keep pla...  \n",
              "35041  buggi stop sudden paus choos second skip curre...  \n",
              "45509  great qualiti backfir old song play mode stay ...  "
            ],
            "text/html": [
              "\n",
              "  <div id=\"df-ef1afbad-e08f-4d94-895b-72f16aa54336\" class=\"colab-df-container\">\n",
              "    <div>\n",
              "<style scoped>\n",
              "    .dataframe tbody tr th:only-of-type {\n",
              "        vertical-align: middle;\n",
              "    }\n",
              "\n",
              "    .dataframe tbody tr th {\n",
              "        vertical-align: top;\n",
              "    }\n",
              "\n",
              "    .dataframe thead th {\n",
              "        text-align: right;\n",
              "    }\n",
              "</style>\n",
              "<table border=\"1\" class=\"dataframe\">\n",
              "  <thead>\n",
              "    <tr style=\"text-align: right;\">\n",
              "      <th></th>\n",
              "      <th>Review</th>\n",
              "      <th>label</th>\n",
              "      <th>tokens</th>\n",
              "      <th>sentences</th>\n",
              "    </tr>\n",
              "  </thead>\n",
              "  <tbody>\n",
              "    <tr>\n",
              "      <th>32533</th>\n",
              "      <td>i don t know what happened between now and las...</td>\n",
              "      <td>NEGATIVE</td>\n",
              "      <td>[don, t, know, happen, month, late, spotifi, t...</td>\n",
              "      <td>don t know happen month late spotifi take away...</td>\n",
              "    </tr>\n",
              "    <tr>\n",
              "      <th>26097</th>\n",
              "      <td>awesome to use for hands free listening to</td>\n",
              "      <td>POSITIVE</td>\n",
              "      <td>[awesom, use, hand, free, listen]</td>\n",
              "      <td>awesom use hand free listen</td>\n",
              "    </tr>\n",
              "    <tr>\n",
              "      <th>32054</th>\n",
              "      <td>love spotify but when i close all my tabs afte...</td>\n",
              "      <td>NEGATIVE</td>\n",
              "      <td>[love, spotifi, close, tab, second, spotifi, k...</td>\n",
              "      <td>love spotifi close tab second spotifi keep pla...</td>\n",
              "    </tr>\n",
              "    <tr>\n",
              "      <th>35041</th>\n",
              "      <td>buggy stops all of the sudden cannot pause cho...</td>\n",
              "      <td>NEGATIVE</td>\n",
              "      <td>[buggi, stop, sudden, paus, choos, second, ski...</td>\n",
              "      <td>buggi stop sudden paus choos second skip curre...</td>\n",
              "    </tr>\n",
              "    <tr>\n",
              "      <th>45509</th>\n",
              "      <td>very great quality only backfire is that every...</td>\n",
              "      <td>POSITIVE</td>\n",
              "      <td>[great, qualiti, backfir, old, song, play, mod...</td>\n",
              "      <td>great qualiti backfir old song play mode stay ...</td>\n",
              "    </tr>\n",
              "  </tbody>\n",
              "</table>\n",
              "</div>\n",
              "    <div class=\"colab-df-buttons\">\n",
              "\n",
              "  <div class=\"colab-df-container\">\n",
              "    <button class=\"colab-df-convert\" onclick=\"convertToInteractive('df-ef1afbad-e08f-4d94-895b-72f16aa54336')\"\n",
              "            title=\"Convert this dataframe to an interactive table.\"\n",
              "            style=\"display:none;\">\n",
              "\n",
              "  <svg xmlns=\"http://www.w3.org/2000/svg\" height=\"24px\" viewBox=\"0 -960 960 960\">\n",
              "    <path d=\"M120-120v-720h720v720H120Zm60-500h600v-160H180v160Zm220 220h160v-160H400v160Zm0 220h160v-160H400v160ZM180-400h160v-160H180v160Zm440 0h160v-160H620v160ZM180-180h160v-160H180v160Zm440 0h160v-160H620v160Z\"/>\n",
              "  </svg>\n",
              "    </button>\n",
              "\n",
              "  <style>\n",
              "    .colab-df-container {\n",
              "      display:flex;\n",
              "      gap: 12px;\n",
              "    }\n",
              "\n",
              "    .colab-df-convert {\n",
              "      background-color: #E8F0FE;\n",
              "      border: none;\n",
              "      border-radius: 50%;\n",
              "      cursor: pointer;\n",
              "      display: none;\n",
              "      fill: #1967D2;\n",
              "      height: 32px;\n",
              "      padding: 0 0 0 0;\n",
              "      width: 32px;\n",
              "    }\n",
              "\n",
              "    .colab-df-convert:hover {\n",
              "      background-color: #E2EBFA;\n",
              "      box-shadow: 0px 1px 2px rgba(60, 64, 67, 0.3), 0px 1px 3px 1px rgba(60, 64, 67, 0.15);\n",
              "      fill: #174EA6;\n",
              "    }\n",
              "\n",
              "    .colab-df-buttons div {\n",
              "      margin-bottom: 4px;\n",
              "    }\n",
              "\n",
              "    [theme=dark] .colab-df-convert {\n",
              "      background-color: #3B4455;\n",
              "      fill: #D2E3FC;\n",
              "    }\n",
              "\n",
              "    [theme=dark] .colab-df-convert:hover {\n",
              "      background-color: #434B5C;\n",
              "      box-shadow: 0px 1px 3px 1px rgba(0, 0, 0, 0.15);\n",
              "      filter: drop-shadow(0px 1px 2px rgba(0, 0, 0, 0.3));\n",
              "      fill: #FFFFFF;\n",
              "    }\n",
              "  </style>\n",
              "\n",
              "    <script>\n",
              "      const buttonEl =\n",
              "        document.querySelector('#df-ef1afbad-e08f-4d94-895b-72f16aa54336 button.colab-df-convert');\n",
              "      buttonEl.style.display =\n",
              "        google.colab.kernel.accessAllowed ? 'block' : 'none';\n",
              "\n",
              "      async function convertToInteractive(key) {\n",
              "        const element = document.querySelector('#df-ef1afbad-e08f-4d94-895b-72f16aa54336');\n",
              "        const dataTable =\n",
              "          await google.colab.kernel.invokeFunction('convertToInteractive',\n",
              "                                                    [key], {});\n",
              "        if (!dataTable) return;\n",
              "\n",
              "        const docLinkHtml = 'Like what you see? Visit the ' +\n",
              "          '<a target=\"_blank\" href=https://colab.research.google.com/notebooks/data_table.ipynb>data table notebook</a>'\n",
              "          + ' to learn more about interactive tables.';\n",
              "        element.innerHTML = '';\n",
              "        dataTable['output_type'] = 'display_data';\n",
              "        await google.colab.output.renderOutput(dataTable, element);\n",
              "        const docLink = document.createElement('div');\n",
              "        docLink.innerHTML = docLinkHtml;\n",
              "        element.appendChild(docLink);\n",
              "      }\n",
              "    </script>\n",
              "  </div>\n",
              "\n",
              "\n",
              "<div id=\"df-9bc8e2dd-e413-4c26-a4ba-4d033706334f\">\n",
              "  <button class=\"colab-df-quickchart\" onclick=\"quickchart('df-9bc8e2dd-e413-4c26-a4ba-4d033706334f')\"\n",
              "            title=\"Suggest charts\"\n",
              "            style=\"display:none;\">\n",
              "\n",
              "<svg xmlns=\"http://www.w3.org/2000/svg\" height=\"24px\"viewBox=\"0 0 24 24\"\n",
              "     width=\"24px\">\n",
              "    <g>\n",
              "        <path d=\"M19 3H5c-1.1 0-2 .9-2 2v14c0 1.1.9 2 2 2h14c1.1 0 2-.9 2-2V5c0-1.1-.9-2-2-2zM9 17H7v-7h2v7zm4 0h-2V7h2v10zm4 0h-2v-4h2v4z\"/>\n",
              "    </g>\n",
              "</svg>\n",
              "  </button>\n",
              "\n",
              "<style>\n",
              "  .colab-df-quickchart {\n",
              "      --bg-color: #E8F0FE;\n",
              "      --fill-color: #1967D2;\n",
              "      --hover-bg-color: #E2EBFA;\n",
              "      --hover-fill-color: #174EA6;\n",
              "      --disabled-fill-color: #AAA;\n",
              "      --disabled-bg-color: #DDD;\n",
              "  }\n",
              "\n",
              "  [theme=dark] .colab-df-quickchart {\n",
              "      --bg-color: #3B4455;\n",
              "      --fill-color: #D2E3FC;\n",
              "      --hover-bg-color: #434B5C;\n",
              "      --hover-fill-color: #FFFFFF;\n",
              "      --disabled-bg-color: #3B4455;\n",
              "      --disabled-fill-color: #666;\n",
              "  }\n",
              "\n",
              "  .colab-df-quickchart {\n",
              "    background-color: var(--bg-color);\n",
              "    border: none;\n",
              "    border-radius: 50%;\n",
              "    cursor: pointer;\n",
              "    display: none;\n",
              "    fill: var(--fill-color);\n",
              "    height: 32px;\n",
              "    padding: 0;\n",
              "    width: 32px;\n",
              "  }\n",
              "\n",
              "  .colab-df-quickchart:hover {\n",
              "    background-color: var(--hover-bg-color);\n",
              "    box-shadow: 0 1px 2px rgba(60, 64, 67, 0.3), 0 1px 3px 1px rgba(60, 64, 67, 0.15);\n",
              "    fill: var(--button-hover-fill-color);\n",
              "  }\n",
              "\n",
              "  .colab-df-quickchart-complete:disabled,\n",
              "  .colab-df-quickchart-complete:disabled:hover {\n",
              "    background-color: var(--disabled-bg-color);\n",
              "    fill: var(--disabled-fill-color);\n",
              "    box-shadow: none;\n",
              "  }\n",
              "\n",
              "  .colab-df-spinner {\n",
              "    border: 2px solid var(--fill-color);\n",
              "    border-color: transparent;\n",
              "    border-bottom-color: var(--fill-color);\n",
              "    animation:\n",
              "      spin 1s steps(1) infinite;\n",
              "  }\n",
              "\n",
              "  @keyframes spin {\n",
              "    0% {\n",
              "      border-color: transparent;\n",
              "      border-bottom-color: var(--fill-color);\n",
              "      border-left-color: var(--fill-color);\n",
              "    }\n",
              "    20% {\n",
              "      border-color: transparent;\n",
              "      border-left-color: var(--fill-color);\n",
              "      border-top-color: var(--fill-color);\n",
              "    }\n",
              "    30% {\n",
              "      border-color: transparent;\n",
              "      border-left-color: var(--fill-color);\n",
              "      border-top-color: var(--fill-color);\n",
              "      border-right-color: var(--fill-color);\n",
              "    }\n",
              "    40% {\n",
              "      border-color: transparent;\n",
              "      border-right-color: var(--fill-color);\n",
              "      border-top-color: var(--fill-color);\n",
              "    }\n",
              "    60% {\n",
              "      border-color: transparent;\n",
              "      border-right-color: var(--fill-color);\n",
              "    }\n",
              "    80% {\n",
              "      border-color: transparent;\n",
              "      border-right-color: var(--fill-color);\n",
              "      border-bottom-color: var(--fill-color);\n",
              "    }\n",
              "    90% {\n",
              "      border-color: transparent;\n",
              "      border-bottom-color: var(--fill-color);\n",
              "    }\n",
              "  }\n",
              "</style>\n",
              "\n",
              "  <script>\n",
              "    async function quickchart(key) {\n",
              "      const quickchartButtonEl =\n",
              "        document.querySelector('#' + key + ' button');\n",
              "      quickchartButtonEl.disabled = true;  // To prevent multiple clicks.\n",
              "      quickchartButtonEl.classList.add('colab-df-spinner');\n",
              "      try {\n",
              "        const charts = await google.colab.kernel.invokeFunction(\n",
              "            'suggestCharts', [key], {});\n",
              "      } catch (error) {\n",
              "        console.error('Error during call to suggestCharts:', error);\n",
              "      }\n",
              "      quickchartButtonEl.classList.remove('colab-df-spinner');\n",
              "      quickchartButtonEl.classList.add('colab-df-quickchart-complete');\n",
              "    }\n",
              "    (() => {\n",
              "      let quickchartButtonEl =\n",
              "        document.querySelector('#df-9bc8e2dd-e413-4c26-a4ba-4d033706334f button');\n",
              "      quickchartButtonEl.style.display =\n",
              "        google.colab.kernel.accessAllowed ? 'block' : 'none';\n",
              "    })();\n",
              "  </script>\n",
              "</div>\n",
              "\n",
              "    </div>\n",
              "  </div>\n"
            ],
            "application/vnd.google.colaboratory.intrinsic+json": {
              "type": "dataframe",
              "variable_name": "df",
              "summary": "{\n  \"name\": \"df\",\n  \"rows\": 1000,\n  \"fields\": [\n    {\n      \"column\": \"Review\",\n      \"properties\": {\n        \"dtype\": \"string\",\n        \"num_unique_values\": 994,\n        \"samples\": [\n          \"i bet the next update will require you to buy premium in order to breathe while using the app\",\n          \"it s been amazing i love it keep it up\",\n          \"spotify is a great app for listening music the best but podcasts oh man it terrible yeah it got ton of exclusive podcasts but podcast section of app really messy and a hassle to operate please add a separate section dedicated to podcasts or just launch a separate app for just podcasts because honestly i cant listen to spotify exclusives on another apps and i dont want to listen to them on spotify its a loss loss situation for me\"\n        ],\n        \"semantic_type\": \"\",\n        \"description\": \"\"\n      }\n    },\n    {\n      \"column\": \"label\",\n      \"properties\": {\n        \"dtype\": \"category\",\n        \"num_unique_values\": 2,\n        \"samples\": [\n          \"POSITIVE\",\n          \"NEGATIVE\"\n        ],\n        \"semantic_type\": \"\",\n        \"description\": \"\"\n      }\n    },\n    {\n      \"column\": \"tokens\",\n      \"properties\": {\n        \"dtype\": \"object\",\n        \"semantic_type\": \"\",\n        \"description\": \"\"\n      }\n    },\n    {\n      \"column\": \"sentences\",\n      \"properties\": {\n        \"dtype\": \"string\",\n        \"num_unique_values\": 987,\n        \"samples\": [\n          \"app excel listen everyday\",\n          \"love spotifi music allow creat play list music differ categori travel awesom\"\n        ],\n        \"semantic_type\": \"\",\n        \"description\": \"\"\n      }\n    }\n  ]\n}"
            }
          },
          "metadata": {},
          "execution_count": 9
        }
      ]
    },
    {
      "cell_type": "markdown",
      "source": [
        "# Extração de features"
      ],
      "metadata": {
        "id": "ncIZuUN4U90t"
      }
    },
    {
      "cell_type": "markdown",
      "source": [
        "## Bag of words"
      ],
      "metadata": {
        "id": "-08ilAvwVLYz"
      }
    },
    {
      "cell_type": "code",
      "source": [
        "def apply_bow(df):\n",
        "  vectorizer = CountVectorizer()\n",
        "  X = vectorizer.fit_transform(df['sentences'])\n",
        "  return X.toarray()\n",
        "\n",
        "X_bow = apply_bow(df)\n",
        "X_bow.shape"
      ],
      "metadata": {
        "colab": {
          "base_uri": "https://localhost:8080/"
        },
        "id": "XvT9BnSdVNqX",
        "outputId": "ee220332-4856-482f-87dd-e2ddb295d34f"
      },
      "execution_count": null,
      "outputs": [
        {
          "output_type": "execute_result",
          "data": {
            "text/plain": [
              "(1000, 1723)"
            ]
          },
          "metadata": {},
          "execution_count": 52
        }
      ]
    },
    {
      "cell_type": "markdown",
      "source": [
        "## Embeddings"
      ],
      "metadata": {
        "id": "W_AIHN2VYOE8"
      }
    },
    {
      "cell_type": "code",
      "source": [
        "def transform(args):\n",
        "  exemplos, dimension = args\n",
        "\n",
        "  results = np.zeros((len(exemplos), dimension, 50))\n",
        "  for i, sequence in enumerate(exemplos):\n",
        "    results[i, :len(sequence), :] = sequence\n",
        "  return results\n",
        "\n",
        "def apply_embeddings(df):\n",
        "  model_review = Word2Vec(df['tokens'], vector_size=50, window=5, min_count=1, workers=4)\n",
        "  max_len = 0\n",
        "  X = []\n",
        "\n",
        "  for tokens in df['tokens']:\n",
        "    if len(tokens) == 0:\n",
        "      X.append(np.zeros((max_len, 50)))\n",
        "    else:\n",
        "      vetores = model_review.wv[tokens]\n",
        "      max_len = max(max_len, len(vetores))\n",
        "      X.append(vetores)\n",
        "\n",
        "  return X, max_len\n",
        "\n",
        "X_embeddings = transform(apply_embeddings(df))\n",
        "nsamples, nx, ny = X_embeddings.shape\n",
        "X_embeddings = X_embeddings.reshape((nsamples, nx*ny))\n",
        "X_embeddings.shape"
      ],
      "metadata": {
        "colab": {
          "base_uri": "https://localhost:8080/"
        },
        "id": "CEIOB3TeWDgg",
        "outputId": "863ccf50-b765-439e-b202-f0d8ae2f4fff"
      },
      "execution_count": null,
      "outputs": [
        {
          "output_type": "execute_result",
          "data": {
            "text/plain": [
              "(1000, 2450)"
            ]
          },
          "metadata": {},
          "execution_count": 13
        }
      ]
    },
    {
      "cell_type": "markdown",
      "source": [
        "# Splitting dataset"
      ],
      "metadata": {
        "id": "bQidckPvYSvN"
      }
    },
    {
      "cell_type": "code",
      "source": [
        "y = df['label']"
      ],
      "metadata": {
        "id": "SuoLPSsrIEUW"
      },
      "execution_count": null,
      "outputs": []
    },
    {
      "cell_type": "code",
      "source": [
        "Y_bert = [1 if label == 'POSITIVE' else 0 for label in y]"
      ],
      "metadata": {
        "id": "MbbsxuZnvJL8"
      },
      "execution_count": null,
      "outputs": []
    },
    {
      "cell_type": "markdown",
      "source": [
        "## Bag of words"
      ],
      "metadata": {
        "id": "BpekEtrmY60G"
      }
    },
    {
      "cell_type": "code",
      "source": [
        "X_train_bow, X_test_bow, y_train_bow, y_test_bow = train_test_split(X_bow, y, test_size=0.2, random_state=seed)"
      ],
      "metadata": {
        "id": "1IWOfHSQYVzW"
      },
      "execution_count": null,
      "outputs": []
    },
    {
      "cell_type": "markdown",
      "source": [
        "## Embeddings"
      ],
      "metadata": {
        "id": "BmbhLgMNY9o_"
      }
    },
    {
      "cell_type": "code",
      "source": [
        "X_train_embeddings, X_test_embeddings, y_train_embeddings, y_test_embeddings = train_test_split(X_embeddings, y, test_size=0.2, random_state=seed)"
      ],
      "metadata": {
        "id": "WUoBbZrEgFt4"
      },
      "execution_count": null,
      "outputs": []
    },
    {
      "cell_type": "markdown",
      "source": [
        "# BERT"
      ],
      "metadata": {
        "id": "yy04GEp7mVB_"
      }
    },
    {
      "cell_type": "code",
      "source": [
        "X_train_bert, X_test_bert, y_train_bert, y_test_bert = train_test_split(df, Y_bert, test_size=0.2, random_state=seed)\n",
        "\n",
        "X_train_bert, X_val_bert, y_train_bert, y_val_bert = train_test_split(X_train_bert, y_train_bert, test_size=0.25, random_state=seed)"
      ],
      "metadata": {
        "id": "m3KI7ma_Jxi7",
        "collapsed": true
      },
      "execution_count": null,
      "outputs": []
    },
    {
      "cell_type": "code",
      "source": [
        "def encode_sentence(s, tokenizer):\n",
        "   tokens = list(tokenizer.tokenize(s))\n",
        "   tokens.append('[SEP]')\n",
        "   return tokenizer.convert_tokens_to_ids(tokens)\n",
        "\n",
        "max_sent_length = 500\n",
        "\n",
        "def bert_encode(df, tokenizer):\n",
        "  num_examples = len(df['Review'])\n",
        "\n",
        "  review = tf.ragged.constant([\n",
        "      encode_sentence(s[:max_sent_length], tokenizer)\n",
        "      for s in df[\"Review\"]])\n",
        "\n",
        "  cls = [tokenizer.convert_tokens_to_ids(['[CLS]'])] * review.shape[0]\n",
        "  input_word_ids = tf.concat([cls, review], axis=-1)\n",
        "\n",
        "  input_mask = tf.ones_like(input_word_ids).to_tensor()\n",
        "\n",
        "  type_cls = tf.zeros_like(cls)\n",
        "  type_s1 = tf.ones_like(review)\n",
        "\n",
        "  input_type_ids = tf.concat(\n",
        "      [type_cls, type_s1], axis=-1).to_tensor()\n",
        "\n",
        "  inputs = {\n",
        "      'input_word_ids': input_word_ids.to_tensor(),\n",
        "      'input_mask': input_mask,\n",
        "      'input_type_ids': input_type_ids}\n",
        "\n",
        "  return inputs"
      ],
      "metadata": {
        "id": "RhACIe7H8LS0"
      },
      "execution_count": null,
      "outputs": []
    },
    {
      "cell_type": "code",
      "source": [
        "gs_folder_bert = \"gs://cloud-tpu-checkpoints/bert/keras_bert/uncased_L-12_H-768_A-12\"\n",
        "\n",
        "tokenizer = bert.tokenization.FullTokenizer(vocab_file=os.path.join(gs_folder_bert, \"vocab.txt\"), do_lower_case=True)"
      ],
      "metadata": {
        "id": "qA7ePddnBX45"
      },
      "execution_count": null,
      "outputs": []
    },
    {
      "cell_type": "code",
      "source": [
        "bert_train_enc = bert_encode(X_train_bert, tokenizer)\n",
        "bert_train_labels = np.array(y_train_bert)\n",
        "\n",
        "bert_validation_enc = bert_encode(X_val_bert, tokenizer)\n",
        "bert_validation_labels = np.array(y_val_bert)\n",
        "\n",
        "bert_test_enc = bert_encode(X_test_bert, tokenizer)\n",
        "bert_test_labels  = np.array(y_test_bert)"
      ],
      "metadata": {
        "id": "jb4PVKnY8CJc"
      },
      "execution_count": null,
      "outputs": []
    },
    {
      "cell_type": "markdown",
      "source": [
        "# Treino e teste"
      ],
      "metadata": {
        "id": "HrKxR6F7ZB4E"
      }
    },
    {
      "cell_type": "markdown",
      "source": [
        "## SVM + BOW"
      ],
      "metadata": {
        "id": "Xa_qh9F2ZGNl"
      }
    },
    {
      "cell_type": "code",
      "source": [
        "model=SVC()\n",
        "\n",
        "model.fit(X_train_bow, y_train_bow)\n",
        "y_pred = model.predict(X_test_bow)\n",
        "\n",
        "accuracy = accuracy_score(y_test_bow, y_pred)\n",
        "f1 = f1_score(y_test_bow, y_pred, average='weighted')\n",
        "precision = precision_score(y_test_bow, y_pred, average='weighted')\n",
        "recall = recall_score(y_test_bow, y_pred, average='weighted')\n",
        "\n",
        "print(f\"SVM + bow Accuracy: {accuracy:.4f}\")\n",
        "print(f\"SVM + bow F1-score: {f1:.4f}\")\n",
        "print(f\"SVM + bow Precision: {precision:.4f}\")\n",
        "print(f\"SVM + bow Recall: {recall:.4f}\")"
      ],
      "metadata": {
        "colab": {
          "base_uri": "https://localhost:8080/"
        },
        "id": "MAH8Rc-qZJvF",
        "outputId": "f97399da-7e52-4712-a8ac-24d2a70b5f5f"
      },
      "execution_count": null,
      "outputs": [
        {
          "output_type": "stream",
          "name": "stdout",
          "text": [
            "SVM + bow Accuracy: 0.8350\n",
            "SVM + bow F1-score: 0.8344\n",
            "SVM + bow Precision: 0.8372\n",
            "SVM + bow Recall: 0.8350\n"
          ]
        }
      ]
    },
    {
      "cell_type": "markdown",
      "source": [
        "## SVM + Embeddings"
      ],
      "metadata": {
        "id": "4JL6WXzGgK-U"
      }
    },
    {
      "cell_type": "code",
      "source": [
        "model=SVC()\n",
        "\n",
        "model.fit(X_train_embeddings, y_train_embeddings)\n",
        "y_pred = model.predict(X_test_embeddings)\n",
        "\n",
        "accuracy = accuracy_score(y_test_embeddings, y_pred)\n",
        "f1 = f1_score(y_test_embeddings, y_pred, average='weighted')\n",
        "precision = precision_score(y_test_embeddings, y_pred, average='weighted')\n",
        "recall = recall_score(y_test_embeddings, y_pred, average='weighted')\n",
        "\n",
        "print(f\"SVM + embeddings Accuracy: {accuracy:.4f}\")\n",
        "print(f\"SVM + embeddings F1-score: {f1:.4f}\")\n",
        "print(f\"SVM + embeddings Precision: {precision:.4f}\")\n",
        "print(f\"SVM + embeddings Recall: {recall:.4f}\")"
      ],
      "metadata": {
        "colab": {
          "base_uri": "https://localhost:8080/"
        },
        "id": "xQzoOZj-gNoO",
        "outputId": "a6d0bade-5c95-418c-ea8f-97e153d43d9e"
      },
      "execution_count": null,
      "outputs": [
        {
          "output_type": "stream",
          "name": "stdout",
          "text": [
            "SVM + embeddings Accuracy: 0.7000\n",
            "SVM + embeddings F1-score: 0.6977\n",
            "SVM + embeddings Precision: 0.7023\n",
            "SVM + embeddings Recall: 0.7000\n"
          ]
        }
      ]
    },
    {
      "cell_type": "markdown",
      "source": [
        "# BERT"
      ],
      "metadata": {
        "id": "ciquFpodqLXx"
      }
    },
    {
      "cell_type": "code",
      "source": [
        "import json\n",
        "\n",
        "bert_config_file = os.path.join(gs_folder_bert, \"bert_config.json\")\n",
        "config_dict = json.loads(tf.io.gfile.GFile(bert_config_file).read())\n",
        "\n",
        "bert_config = bert.configs.BertConfig.from_dict(config_dict)"
      ],
      "metadata": {
        "id": "BfkiqiFD7U_4"
      },
      "execution_count": null,
      "outputs": []
    },
    {
      "cell_type": "code",
      "source": [
        "bert_classifier, bert_encoder = bert.bert_models.classifier_model(bert_config, num_labels=2)"
      ],
      "metadata": {
        "id": "wClAFDe0CGbI"
      },
      "execution_count": null,
      "outputs": []
    },
    {
      "cell_type": "code",
      "source": [
        "# Set up epochs and steps\n",
        "epochs = 10\n",
        "batch_size = 32\n",
        "eval_batch_size = 32\n",
        "\n",
        "bert_train_data_size = len(bert_train_labels)\n",
        "bert_steps_per_epoch = int(bert_train_data_size / batch_size)\n",
        "bert_num_train_steps = bert_steps_per_epoch * epochs\n",
        "bert_warmup_steps = int(epochs * bert_train_data_size * 0.1 / batch_size)\n",
        "\n",
        "# creates an optimizer with learning rate schedule\n",
        "optimizer = official.nlp.optimization.create_optimizer(2e-5, num_train_steps=bert_num_train_steps, num_warmup_steps=bert_warmup_steps)"
      ],
      "metadata": {
        "id": "VZN0vi-S7fu0"
      },
      "execution_count": null,
      "outputs": []
    },
    {
      "cell_type": "code",
      "source": [
        "metrics = [tf.keras.metrics.SparseCategoricalAccuracy('accuracy', dtype=tf.float32)]\n",
        "loss = tf.keras.losses.SparseCategoricalCrossentropy(from_logits=True)\n",
        "\n",
        "bert_classifier.compile(optimizer=optimizer, loss=loss, metrics=metrics)"
      ],
      "metadata": {
        "id": "pa7KE9GO6chD"
      },
      "execution_count": null,
      "outputs": []
    },
    {
      "cell_type": "code",
      "source": [
        "bert_classifier.fit(\n",
        "      bert_train_enc, bert_train_labels,\n",
        "      validation_data=(bert_validation_enc, bert_validation_labels),\n",
        "      batch_size=batch_size,\n",
        "      epochs=epochs)"
      ],
      "metadata": {
        "colab": {
          "base_uri": "https://localhost:8080/"
        },
        "id": "PpOnJxTQO1xd",
        "outputId": "0ff15df8-98c9-4d3d-c08c-8fc801198861"
      },
      "execution_count": null,
      "outputs": [
        {
          "output_type": "stream",
          "name": "stdout",
          "text": [
            "Epoch 1/10\n",
            "19/19 [==============================] - 578s 30s/step - loss: 0.6929 - accuracy: 0.5567 - val_loss: 0.6582 - val_accuracy: 0.6450\n",
            "Epoch 2/10\n",
            "19/19 [==============================] - 552s 29s/step - loss: 0.6543 - accuracy: 0.5967 - val_loss: 0.6312 - val_accuracy: 0.6750\n",
            "Epoch 3/10\n",
            "19/19 [==============================] - 542s 29s/step - loss: 0.5640 - accuracy: 0.7183 - val_loss: 0.5907 - val_accuracy: 0.6900\n",
            "Epoch 4/10\n",
            "19/19 [==============================] - 541s 29s/step - loss: 0.5721 - accuracy: 0.6983 - val_loss: 0.5570 - val_accuracy: 0.7100\n",
            "Epoch 5/10\n",
            "19/19 [==============================] - 550s 29s/step - loss: 0.4869 - accuracy: 0.7850 - val_loss: 0.5330 - val_accuracy: 0.7350\n",
            "Epoch 6/10\n",
            "19/19 [==============================] - 555s 29s/step - loss: 0.3937 - accuracy: 0.8383 - val_loss: 0.4473 - val_accuracy: 0.8150\n",
            "Epoch 7/10\n",
            "19/19 [==============================] - 548s 29s/step - loss: 0.3459 - accuracy: 0.8633 - val_loss: 0.4735 - val_accuracy: 0.8050\n",
            "Epoch 8/10\n",
            "19/19 [==============================] - 548s 29s/step - loss: 0.2989 - accuracy: 0.8817 - val_loss: 0.4335 - val_accuracy: 0.8400\n",
            "Epoch 9/10\n",
            "19/19 [==============================] - 548s 29s/step - loss: 0.2675 - accuracy: 0.8983 - val_loss: 0.4186 - val_accuracy: 0.8400\n",
            "Epoch 10/10\n",
            "19/19 [==============================] - 552s 29s/step - loss: 0.2746 - accuracy: 0.8883 - val_loss: 0.4404 - val_accuracy: 0.8300\n"
          ]
        },
        {
          "output_type": "execute_result",
          "data": {
            "text/plain": [
              "<keras.callbacks.History at 0x79801f56edd0>"
            ]
          },
          "metadata": {},
          "execution_count": 45
        }
      ]
    },
    {
      "cell_type": "code",
      "source": [
        "result = bert_classifier(bert_test_enc, training=False)"
      ],
      "metadata": {
        "id": "3HCFEaColg-Q"
      },
      "execution_count": null,
      "outputs": []
    },
    {
      "cell_type": "code",
      "source": [
        "result = tf.argmax(result, axis=1).numpy()"
      ],
      "metadata": {
        "id": "dO3Y0G1al8lf"
      },
      "execution_count": null,
      "outputs": []
    },
    {
      "cell_type": "code",
      "source": [
        "print(classification_report(bert_test_labels, result, target_names=['NEGATIVE', 'POSITIVE']))"
      ],
      "metadata": {
        "colab": {
          "base_uri": "https://localhost:8080/"
        },
        "id": "ECs8i6cEl_Qf",
        "outputId": "8262031a-2411-4bfb-a175-02517241cc68"
      },
      "execution_count": null,
      "outputs": [
        {
          "output_type": "stream",
          "name": "stdout",
          "text": [
            "              precision    recall  f1-score   support\n",
            "\n",
            "    NEGATIVE       0.85      0.75      0.80       104\n",
            "    POSITIVE       0.76      0.85      0.80        96\n",
            "\n",
            "    accuracy                           0.80       200\n",
            "   macro avg       0.80      0.80      0.80       200\n",
            "weighted avg       0.81      0.80      0.80       200\n",
            "\n"
          ]
        }
      ]
    }
  ]
}